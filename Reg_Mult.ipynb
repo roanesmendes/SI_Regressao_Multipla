{
  "nbformat": 4,
  "nbformat_minor": 0,
  "metadata": {
    "colab": {
      "provenance": [],
      "authorship_tag": "ABX9TyO0CHuGxM+46zvVITs+vFBI",
      "include_colab_link": true
    },
    "kernelspec": {
      "name": "python3",
      "display_name": "Python 3"
    },
    "language_info": {
      "name": "python"
    }
  },
  "cells": [
    {
      "cell_type": "markdown",
      "metadata": {
        "id": "view-in-github",
        "colab_type": "text"
      },
      "source": [
        "<a href=\"https://colab.research.google.com/github/roanesmendes/SI_Regressao_Multipla/blob/main/Reg_Mult.ipynb\" target=\"_parent\"><img src=\"https://colab.research.google.com/assets/colab-badge.svg\" alt=\"Open In Colab\"/></a>"
      ]
    },
    {
      "cell_type": "code",
      "execution_count": 1,
      "metadata": {
        "colab": {
          "base_uri": "https://localhost:8080/"
        },
        "id": "owIGEWxCo3wO",
        "outputId": "4cc5560b-4f9e-400e-eb6e-5327c07d6f3f"
      },
      "outputs": [
        {
          "output_type": "stream",
          "name": "stdout",
          "text": [
            "1/1 [==============================] - 0s 108ms/step\n",
            "[[0.7726352 ]\n",
            " [0.53427017]]\n"
          ]
        }
      ],
      "source": [
        "import numpy as np\n",
        "import pandas as pd\n",
        "import tensorflow as tf\n",
        "from sklearn.preprocessing import MinMaxScaler\n",
        "\n",
        "# Dados\n",
        "data = {\n",
        "    'ID': [1, 2, 3, 4, 5, 6, 7, 8],\n",
        "    'HorasEstudo': [12, 22, 115, 31, 0, 5, 92, 57],\n",
        "    'HorasSono': [6, 6.5, 4, 9, 10, 8, 6, 8],\n",
        "    'Simulado': [0.78, 0.24, 1.0, 0.67, 0.58, 0.78, 0.82, 0.91],\n",
        "    'Prova': [0.93, 0.68, 0.95, 0.75, 0.51, 0.60, None, None]\n",
        "}\n",
        "\n",
        "df = pd.DataFrame(data)\n",
        "\n",
        "# Normalizando os dados\n",
        "scaler = MinMaxScaler()\n",
        "scaled_data = scaler.fit_transform(df[['HorasEstudo', 'HorasSono', 'Simulado', 'Prova']])\n",
        "df[['HorasEstudo', 'HorasSono', 'Simulado', 'Prova']] = scaled_data\n",
        "\n",
        "# Dividindo os dados em features e target\n",
        "X_train = df[['HorasEstudo', 'HorasSono', 'Simulado']].values[:6]\n",
        "y_train = df['Prova'].values[:6]\n",
        "\n",
        "X_test = df[['HorasEstudo', 'HorasSono', 'Simulado']].values[6:]\n",
        "y_test = df['Prova'].values[6:]\n",
        "\n",
        "# Definindo o modelo\n",
        "model = tf.keras.Sequential([\n",
        "    tf.keras.layers.Dense(10, activation='relu', input_shape=(3,)),\n",
        "    tf.keras.layers.Dense(1)\n",
        "])\n",
        "\n",
        "model.compile(optimizer='adam', loss='mean_squared_error')\n",
        "\n",
        "# Treinando o modelo\n",
        "model.fit(X_train, y_train, batch_size=2, epochs=1000, verbose=0)\n",
        "\n",
        "# Fazendo previsões\n",
        "predictions = model.predict(X_test)\n",
        "print(predictions)"
      ]
    }
  ]
}